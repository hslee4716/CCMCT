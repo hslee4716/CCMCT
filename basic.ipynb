{
 "cells": [
  {
   "cell_type": "code",
   "execution_count": 2,
   "source": [
    "from utils.data_util_window import *\r\n",
    "import pandas as pd\r\n",
    "import numpy as np\r\n",
    "from glob import glob\r\n"
   ],
   "outputs": [],
   "metadata": {}
  },
  {
   "cell_type": "code",
   "execution_count": 3,
   "source": [
    "# def dcm_to_train_set(db = \"original_data/archive/MITOS_WSI_CCMCT_ODAEL_train_dcm.sqlite\", source_dir = \"original_data/archive\",\\\r\n",
    "#                          dest_dir = \"datasets/new\", tile_size = 512, cell_size = 40):\r\n",
    "yolo_dcm_to_train_set_includeNone(tile_size=320)"
   ],
   "outputs": [],
   "metadata": {}
  },
  {
   "cell_type": "code",
   "execution_count": null,
   "source": [],
   "outputs": [],
   "metadata": {}
  }
 ],
 "metadata": {
  "kernelspec": {
   "name": "python3",
   "display_name": "Python 3.8.11 64-bit ('ccmct': conda)"
  },
  "language_info": {
   "name": "python",
   "version": "3.8.11",
   "mimetype": "text/x-python",
   "codemirror_mode": {
    "name": "ipython",
    "version": 3
   },
   "pygments_lexer": "ipython3",
   "nbconvert_exporter": "python",
   "file_extension": ".py"
  },
  "interpreter": {
   "hash": "8c2404bd8ca2f9cfec9a23a8cacc0264d0bce9fde456fc45053c7531705909fc"
  }
 },
 "nbformat": 4,
 "nbformat_minor": 5
}