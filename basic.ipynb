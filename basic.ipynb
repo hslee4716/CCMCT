{
 "cells": [
  {
   "cell_type": "code",
   "execution_count": 1,
   "source": [
    "from utils.data_util import *\r\n",
    "import pandas as pd\r\n",
    "import numpy as np\r\n",
    "from glob import glob\r\n"
   ],
   "outputs": [],
   "metadata": {}
  },
  {
   "cell_type": "code",
   "execution_count": null,
   "source": [
    "# dcm to png,label & 이상치 제거\r\n",
    "dcm_to_train_set()\r\n",
    "fix_labels(\"datasets/train/images\", \"datasets/train/labels\")\r\n",
    "\r\n",
    "# def dcm_to_train_set(db = \"datasets/archive/MITOS_WSI_CCMCT_ODAEL_train_dcm.sqlite\", source_dir = \"datasets/archive\",\\\r\n",
    "#                          dest_dir = \"datasets/train\", tile_size = 1000, cell_size = 40):"
   ],
   "outputs": [],
   "metadata": {}
  },
  {
   "cell_type": "code",
   "execution_count": 3,
   "source": [
    "# train / valid split\r\n",
    "from sklearn.model_selection import train_test_split\r\n",
    "\r\n",
    "files = glob(\"datasets/train/labels/*.txt\")\r\n",
    "file_lists = []\r\n",
    "for file_name in files:\r\n",
    "    file_lists.append(file_name.split(\"\\\\\")[1].split(\".\")[0])\r\n",
    "\r\n",
    "train_files, test_files = train_test_split(file_lists, random_state=7, test_size=0.2)\r\n",
    "print(len(train_files), len(test_files))\r\n",
    "\r\n",
    "with open(\"datasets/train/train.txt\", 'w') as f:\r\n",
    "    for train_file in train_files:\r\n",
    "        f.write(train_file+\"\\n\")\r\n",
    "\r\n",
    "with open(\"datasets/train/test.txt\", 'w') as f:\r\n",
    "    for test_file in test_files:\r\n",
    "        f.write(test_file+\"\\n\")"
   ],
   "outputs": [
    {
     "output_type": "stream",
     "name": "stdout",
     "text": [
      "22524 5631\n"
     ]
    }
   ],
   "metadata": {}
  },
  {
   "cell_type": "code",
   "execution_count": 7,
   "source": [
    "# train test split 칸에서 작성된 txt파일에 따라 이미지, 라벨 다른 폴더로 분할\r\n",
    "import shutil\r\n",
    "\r\n",
    "source_dir = \"datasets/train\"\r\n",
    "\r\n",
    "dest_dir = \"datasets/val\"\r\n",
    "\r\n",
    "if not os.path.exists(dest_dir):\r\n",
    "    os.makedirs(dest_dir)\r\n",
    "    os.makedirs(dest_dir + \"/images\")\r\n",
    "    os.makedirs(dest_dir + \"/labels\")\r\n",
    "\r\n",
    "val_txt = source_dir + \"/test.txt\"\r\n",
    "\r\n",
    "with open(val_txt, 'r') as f:\r\n",
    "    val_files = f.readlines()\r\n",
    "\r\n",
    "for val_file in val_files:\r\n",
    "    temp = val_file.strip()\r\n",
    "    shutil.move(source_dir + \"/images/\"+temp+\".png\", dest_dir + \"/images\")\r\n",
    "    shutil.move(source_dir + \"/labels/\"+temp+\".txt\", dest_dir + \"/labels\")\r\n",
    "\r\n",
    "# shutil.move()"
   ],
   "outputs": [],
   "metadata": {}
  },
  {
   "cell_type": "code",
   "execution_count": null,
   "source": [],
   "outputs": [],
   "metadata": {}
  },
  {
   "cell_type": "code",
   "execution_count": null,
   "source": [
    "ds = ReadableDicomDataset('datasets/archive/fff27b79894fe0157b08.dcm')\r\n",
    "# location=(69700,17100)\r\n",
    "# size=(500,500)\r\n",
    "\r\n",
    "location=(60000,40000)\r\n",
    "size=(3000,3000)\r\n",
    "img = Image.fromarray(ds.read_region(location=location,size=size))\r\n",
    "img"
   ],
   "outputs": [],
   "metadata": {}
  },
  {
   "cell_type": "code",
   "execution_count": null,
   "source": [
    "# Get the annotation coordinates, offset by the left upper coordinate (location)\r\n",
    "# NOTE: We would actually have to check the label class - which we omit for the sake of simplicity here\r\n",
    "DB = sqlite3.connect('datasets/archive/MITOS_WSI_CCMCT_ODAEL_train_dcm.sqlite')\r\n",
    "cur = DB.cursor()\r\n",
    "\r\n",
    "cells = cur.execute(f\"\"\"SELECT coordinateX-{location[0]}, coordinateY-{location[1]}\r\n",
    "                        from Annotations_coordinates where slide==7 and \r\n",
    "                        coordinateX>{location[0]} and coordinateX<{location[0]+size[0]} and \r\n",
    "                        coordinateY>{location[1]} and coordinateY<{location[1]+size[1]}\"\"\").fetchall()\r\n",
    "\r\n",
    "from PIL import ImageDraw\r\n",
    "draw = ImageDraw.Draw(img)\r\n",
    "for (cx,cy) in cells:\r\n",
    "    r=25\r\n",
    "    draw.ellipse([(cx-r,cy-r),(cx+r,cy+r)],outline=(255,0,0,255))\r\n",
    "img"
   ],
   "outputs": [],
   "metadata": {}
  },
  {
   "cell_type": "code",
   "execution_count": null,
   "source": [],
   "outputs": [],
   "metadata": {}
  }
 ],
 "metadata": {
  "kernelspec": {
   "name": "python3",
   "display_name": "Python 3.8.11 64-bit ('ccmct': conda)"
  },
  "language_info": {
   "name": "python",
   "version": "3.8.11",
   "mimetype": "text/x-python",
   "codemirror_mode": {
    "name": "ipython",
    "version": 3
   },
   "pygments_lexer": "ipython3",
   "nbconvert_exporter": "python",
   "file_extension": ".py"
  },
  "interpreter": {
   "hash": "97b7bbc1fe95bab6c4bb3b76090f56cda0432ac6aab173c12b910e29abe03d59"
  }
 },
 "nbformat": 4,
 "nbformat_minor": 5
}